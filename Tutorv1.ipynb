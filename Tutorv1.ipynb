{
 "cells": [
  {
   "cell_type": "markdown",
   "metadata": {},
   "source": [
    "# US Constitution Tutor"
   ]
  },
  {
   "cell_type": "markdown",
   "metadata": {},
   "source": [
    "## Author: C. Lee Allan"
   ]
  },
  {
   "cell_type": "markdown",
   "metadata": {},
   "source": [
    "### Date: 11/2020"
   ]
  },
  {
   "cell_type": "code",
   "execution_count": 7,
   "metadata": {},
   "outputs": [
    {
     "data": {
      "text/html": [
       "<script>\n",
       "code_show=true; \n",
       "function code_toggle() {\n",
       " if (code_show){\n",
       " $('div.input').hide();\n",
       " } else {\n",
       " $('div.input').show();\n",
       " }\n",
       " code_show = !code_show\n",
       "} \n",
       "$( document ).ready(code_toggle);\n",
       "</script>\n",
       "The raw code for this IPython notebook is by default hidden for easier reading.\n",
       "To toggle on/off the raw code, click <a href=\"javascript:code_toggle()\">here</a>."
      ],
      "text/plain": [
       "<IPython.core.display.HTML object>"
      ]
     },
     "execution_count": 7,
     "metadata": {},
     "output_type": "execute_result"
    }
   ],
   "source": [
    "from IPython.display import HTML\n",
    "\n",
    "HTML('''<script>\n",
    "code_show=true; \n",
    "function code_toggle() {\n",
    " if (code_show){\n",
    " $('div.input').hide();\n",
    " } else {\n",
    " $('div.input').show();\n",
    " }\n",
    " code_show = !code_show\n",
    "} \n",
    "$( document ).ready(code_toggle);\n",
    "</script>\n",
    "The raw code for this IPython notebook is by default hidden for easier reading.\n",
    "To toggle on/off the raw code, click <a href=\"javascript:code_toggle()\">here</a>.''')"
   ]
  },
  {
   "cell_type": "code",
   "execution_count": 6,
   "metadata": {},
   "outputs": [
    {
     "data": {
      "application/vnd.jupyter.widget-view+json": {
       "model_id": "b0819c34610844a6b1d510cc1c8b7b73",
       "version_major": 2,
       "version_minor": 0
      },
      "text/plain": [
       "VBox(children=(Label(value='Establishes the Executive branch of government'), Dropdown(description='Make Selec…"
      ]
     },
     "metadata": {},
     "output_type": "display_data"
    },
    {
     "data": {
      "application/vnd.jupyter.widget-view+json": {
       "model_id": "411241a149244f829f40b2e5c233abbd",
       "version_major": 2,
       "version_minor": 0
      },
      "text/plain": [
       "Button(description='Check Answer', style=ButtonStyle())"
      ]
     },
     "metadata": {},
     "output_type": "display_data"
    }
   ],
   "source": [
    "import ipywidgets as widgets\n",
    "from ipywidgets import widgets, HBox, VBox, Output, interactive\n",
    "from IPython.display import clear_output\n",
    "import pandas as pd\n",
    "import random\n",
    "\n",
    "df = pd.read_csv('constitution.csv')\n",
    "\n",
    "# create list of Articles and Ammendments\n",
    "aList = list(df['Article-Amend'])\n",
    "\n",
    "#Create Dropdown Box with amendments\n",
    "w_choices = widgets.Dropdown(\n",
    "    options= aList,\n",
    "    value= 'Preamble',\n",
    "    description='Make Selection:',\n",
    "    disabled=False,\n",
    ")\n",
    "\n",
    "#Create Check Answer & Next Buttons\n",
    "w_Check = widgets.Button(description='Check Answer')\n",
    "w_Next  = widgets.Button(description='Next')\n",
    "\n",
    "def update():\n",
    "    index = random.randint(0,27)\n",
    "    w_Topic = widgets.Label(df.at[index, 'Topic'])\n",
    "    w_Hint = widgets.Label(df.at[index, 'Hint'])\n",
    "    global w_Answer\n",
    "    w_Answer = widgets.Label(df.at[index, 'Article-Amend'])\n",
    "    display(VBox([w_Topic, w_choices, w_Hint]))\n",
    "    display(w_Check)\n",
    "\n",
    "def on_Check_button_clicked(b):\n",
    "    display(w_Answer)\n",
    "    display(w_Next)\n",
    "\n",
    "def on_Next_button_clicked(b):\n",
    "    clear_output()\n",
    "    update()\n",
    "\n",
    "w_Check.on_click(on_Check_button_clicked)\n",
    "w_Next.on_click(on_Next_button_clicked)\n",
    "update()\n",
    "\n"
   ]
  },
  {
   "cell_type": "code",
   "execution_count": null,
   "metadata": {},
   "outputs": [],
   "source": [
    "\n",
    "\n"
   ]
  }
 ],
 "metadata": {
  "celltoolbar": "Edit Metadata",
  "kernelspec": {
   "display_name": "Python 3",
   "language": "python",
   "name": "python3"
  },
  "language_info": {
   "codemirror_mode": {
    "name": "ipython",
    "version": 3
   },
   "file_extension": ".py",
   "mimetype": "text/x-python",
   "name": "python",
   "nbconvert_exporter": "python",
   "pygments_lexer": "ipython3",
   "version": "3.8.3"
  }
 },
 "nbformat": 4,
 "nbformat_minor": 4
}
